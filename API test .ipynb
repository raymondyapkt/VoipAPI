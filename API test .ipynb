{
 "cells": [
  {
   "cell_type": "code",
   "execution_count": 2,
   "metadata": {},
   "outputs": [
    {
     "data": {
      "application/javascript": "  function convertToRoman(num) {\n  if (num < 1 ){return \"\"}\n  let romArr = [ [1000, 'M'],\n    [900, 'CM'],[500, 'D'],[400, 'CD'],[100, 'C'],\n    [ 90, 'XC'],[ 50, 'L'],[ 40, 'XL'],[ 10, 'X'],\n    [  9, 'IX'],[  5, 'V'],[  4, 'IV'],[  1, 'I'] ];\n  let romanize = \"\"\n\n  for (var i = 0; i < romArr.length; i++) {\n    if (num < romArr[i][0]){continue}\n    let noR = Math.floor(num/romArr[i][0])\n    console.log(num)\n    romanize = romanize +  romArr[i][1].repeat(noR)\n    num = num % romArr[i][0]\n    console.log(romanize)\n    }\n  return (romanize);\n}\n// console.log :  F12 for console output  ,\n// document.querySelector... will display at run area\ndocument.querySelector(\"#output-area\").appendChild(document.createTextNode(\n  convertToRoman(5)\n  ));\n",
      "text/plain": [
       "<IPython.core.display.Javascript object>"
      ]
     },
     "metadata": {},
     "output_type": "display_data"
    }
   ],
   "source": [
    "%%javascript\n",
    "  function convertToRoman(num) {\n",
    "  if (num < 1 ){return \"\"}\n",
    "  let romArr = [ [1000, 'M'],\n",
    "    [900, 'CM'],[500, 'D'],[400, 'CD'],[100, 'C'],\n",
    "    [ 90, 'XC'],[ 50, 'L'],[ 40, 'XL'],[ 10, 'X'],\n",
    "    [  9, 'IX'],[  5, 'V'],[  4, 'IV'],[  1, 'I'] ];\n",
    "  let romanize = \"\"\n",
    "\n",
    "  for (var i = 0; i < romArr.length; i++) {\n",
    "    if (num < romArr[i][0]){continue}\n",
    "    let noR = Math.floor(num/romArr[i][0])\n",
    "    console.log(num)\n",
    "    romanize = romanize +  romArr[i][1].repeat(noR)\n",
    "    num = num % romArr[i][0]\n",
    "    console.log(romanize)\n",
    "    }\n",
    "  return (romanize);\n",
    "}\n",
    "// console.log :  F12 for console output  ,\n",
    "// document.querySelector... will display at run area\n",
    "document.querySelector(\"#output-area\").appendChild(document.createTextNode(\n",
    "  convertToRoman(5)\n",
    "  ));"
   ]
  },
  {
   "cell_type": "code",
   "execution_count": 7,
   "metadata": {},
   "outputs": [
    {
     "name": "stdout",
     "output_type": "stream",
     "text": [
      "http://192.168.0.218/agc/api.php?source=test&user=6666&pass=1234&agent_user=7777&function=call_agent&value=CALL\n",
      "Request returned 200 : 'OK'\n",
      "b'SUCCESS: call_agent function sent - 7777\\n'\n"
     ]
    }
   ],
   "source": [
    "import requests  # Import the requests library\n",
    "\n",
    "# Query URL\n",
    "url = ( 'http://192.168.0.218/agc/api.php?source=test'\n",
    "        '&user=6666&pass=1234'\n",
    "        '&agent_user=7777'\n",
    "        '&function=call_agent&value=CALL'\n",
    "       )\n",
    "print(url)\n",
    "response = requests.get(url)\n",
    "print(f\"Request returned {response.status_code} : '{response.reason}'\")\n",
    "print (response.content)\n",
    "\n",
    "#payload = response.json()\n",
    "# import pprint\n",
    "# pp = pprint.PrettyPrinter(indent=1)\n",
    "# pp.pprint(payload)\n"
   ]
  }
 ],
 "metadata": {
  "kernelspec": {
   "display_name": "Python 3",
   "language": "python",
   "name": "python3"
  },
  "language_info": {
   "codemirror_mode": {
    "name": "ipython",
    "version": 3
   },
   "file_extension": ".py",
   "mimetype": "text/x-python",
   "name": "python",
   "nbconvert_exporter": "python",
   "pygments_lexer": "ipython3",
   "version": "3.11.3"
  },
  "orig_nbformat": 4
 },
 "nbformat": 4,
 "nbformat_minor": 2
}
