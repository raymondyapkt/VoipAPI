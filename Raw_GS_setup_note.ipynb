{
  "cells": [
    {
      "cell_type": "markdown",
      "metadata": {
        "id": "view-in-github",
        "colab_type": "text"
      },
      "source": [
        "<a href=\"https://colab.research.google.com/github/raymondyapkt/VoipAPI/blob/main/Raw_GS_setup_note.ipynb\" target=\"_parent\"><img src=\"https://colab.research.google.com/assets/colab-badge.svg\" alt=\"Open In Colab\"/></a>"
      ]
    },
    {
      "cell_type": "markdown",
      "source": [
        "\n",
        "[GS setup record](https://docs.google.com/document/d/15QNFDp-aB7Nc1bp15uz2vAcK_I8QCQZ1?rtpof=true&usp=drive_fs)<br>\n",
        "[network diagram](https://drive.google.com/file/d/11g3cymRa0S5kb45wnLy7Bx1xPCVhttzL/view?usp=drive_link)<br>\n",
        "[GS API setup](https://drive.google.com/file/d/195Lbk2PTd3tNvvbCmUerocJ6Jf4w4paq/view?usp=drive_link)<br>\n",
        "[UCM Demo ](https://demo.myucm.cloud:9090/system-status/dashboard)<br>\n",
        "[GS Documentation ](https://documentation.grandstream.com/article-categories/ucm6300/)<br>\n",
        "https://documentation.grandstream.com/knowledge-base/call-center/<br>\n",
        "https://documentation.grandstream.com/knowledge-base/https-api/<br>\n",
        "[GS WAVE feature](https://ucmrc.gdms.cloud/ins)<br>\n"
      ],
      "metadata": {
        "id": "_zY8XkI_gSbm"
      }
    },
    {
      "cell_type": "markdown",
      "metadata": {
        "id": "Lta-iOjsa7me"
      },
      "source": [
        "**GSM Gateway :**<br>\n",
        "Model\t\t: DINSTAR UC2000-32G<br>\n",
        "IP’s\t\t: 192.168.0.202  . 255.255.255.0 , 192.168.0.1<br>\n",
        "Login\t\t: admin  ;  Password \t: admin<br>\n",
        "//EOC"
      ]
    },
    {
      "cell_type": "code",
      "source": [],
      "metadata": {
        "id": "C0FGbtj-gFbd"
      },
      "execution_count": null,
      "outputs": []
    },
    {
      "cell_type": "markdown",
      "source": [
        "**PBX :**<br>\n",
        "Model \t\t: GRANDSTREAM UCM6302<br>\n",
        "Spec\t\t: 2 FXO, 2FXS, 1000 Users, 150 Concurrent Calls<br>\n",
        "IP’s\t\t: 192.168.0.201  . 255.255.255.0 , 192.168.0.1<br>\n",
        "Login\t\t: Admin<br>\n",
        "Password \t: Crm8888*<br>\n",
        "    wave url : c074adc17736.a.gdms.cloud or 182,168.0.201\n",
        "      \n",
        "<br>\n",
        "<br>\n",
        "API URL  : https://192.168.0.201:8089/api<br>\n",
        "Api user name:  CRMapi<br>\n",
        "Api password\t:  crmCC8888<br>\n",
        "trail URL :https://p9wage3hwm.a.gdms.cloud/\n",
        "//EOC"
      ],
      "metadata": {
        "id": "qQPl1RjAe0qn"
      }
    },
    {
      "cell_type": "code",
      "source": [],
      "metadata": {
        "id": "st0agH5EWgEz"
      },
      "execution_count": null,
      "outputs": []
    },
    {
      "cell_type": "markdown",
      "source": [
        "**General extension setting  :**\n",
        "\n",
        "**Ext record option**  -  to test either “all Calls” or external calls will be more suitable  \n",
        "\n",
        "- All Calls: All incoming calls to this extension will be recorded.\n",
        "\n",
        "- OFF: This extension's calls will not be recorded.\n",
        "\n",
        "- Only External Calls: All external calls of the extension will be recorded.\n",
        "\n",
        "- Only Internal Calls: All internal calls of the extension will be recorded.\n",
        "\n",
        "\n",
        "**Extension number** range 11000 - 15999\n",
        "\n",
        "\n",
        "//EOC\n"
      ],
      "metadata": {
        "id": "TwezWW30fY9E"
      }
    },
    {
      "cell_type": "markdown",
      "source": [
        "General Call queue setting :\n",
        "\n",
        "\n",
        " **Call Features🡪Call Queue.**\n",
        "\n",
        "\n",
        "If 6500 is the queue extension,\n",
        "\n",
        "Agent Login Extension Suffix is *,\n",
        "\n",
        "Agent Logout Extension Suffix is **,\n",
        "\n",
        "dial 6500* to log in and 6500** to log out.\n",
        "\n",
        "UCM Model\n",
        "\n",
        "Maximum Number of Agents in Call Queue\n",
        "\n",
        "UCM6302  -- 50\n",
        "\n",
        "//EOC\n"
      ],
      "metadata": {
        "id": "XW-n84hnhFO3"
      }
    },
    {
      "cell_type": "code",
      "source": [
        "# Post the challenge by python  -\n",
        "url = 'https://p9wage3hwm.a.gdms.cloud/api'\n",
        "import requests\n",
        "challenge = requests.post( url , json={\n",
        " \"request\":{\n",
        " \"action\":\"challenge\",\n",
        " \"user\":\"CRMapi\",\n",
        " \"version\":\"1.2\"\n",
        " }\n",
        "})\n",
        "print(f\"Status Code: {challenge.status_code}, Response: {challenge.json()}\")\n",
        "\n",
        "'''\n",
        "challengeRcv = challenge.json()[\"response\"][\"challenge\"]\n",
        "print(challengeRcv)\n",
        "\n",
        "# generate the token\n",
        "import hashlib\n",
        "salt = 'crmCC8888'\n",
        "db_password = challengeRcv+salt\n",
        "h = hashlib.md5(db_password.encode())\n",
        "print(h.hexdigest())\n",
        "'''"
      ],
      "metadata": {
        "colab": {
          "base_uri": "https://localhost:8080/",
          "height": 1000
        },
        "id": "wq7njW8Uaods",
        "outputId": "83314db4-89a9-4513-8bb4-fd23fa7a82c6"
      },
      "execution_count": null,
      "outputs": [
        {
          "output_type": "error",
          "ename": "JSONDecodeError",
          "evalue": "ignored",
          "traceback": [
            "\u001b[0;31m---------------------------------------------------------------------------\u001b[0m",
            "\u001b[0;31mJSONDecodeError\u001b[0m                           Traceback (most recent call last)",
            "\u001b[0;32m/usr/local/lib/python3.10/dist-packages/requests/models.py\u001b[0m in \u001b[0;36mjson\u001b[0;34m(self, **kwargs)\u001b[0m\n\u001b[1;32m    909\u001b[0m         \u001b[0;32mtry\u001b[0m\u001b[0;34m:\u001b[0m\u001b[0;34m\u001b[0m\u001b[0;34m\u001b[0m\u001b[0m\n\u001b[0;32m--> 910\u001b[0;31m             \u001b[0;32mreturn\u001b[0m \u001b[0mcomplexjson\u001b[0m\u001b[0;34m.\u001b[0m\u001b[0mloads\u001b[0m\u001b[0;34m(\u001b[0m\u001b[0mself\u001b[0m\u001b[0;34m.\u001b[0m\u001b[0mtext\u001b[0m\u001b[0;34m,\u001b[0m \u001b[0;34m**\u001b[0m\u001b[0mkwargs\u001b[0m\u001b[0;34m)\u001b[0m\u001b[0;34m\u001b[0m\u001b[0;34m\u001b[0m\u001b[0m\n\u001b[0m\u001b[1;32m    911\u001b[0m         \u001b[0;32mexcept\u001b[0m \u001b[0mJSONDecodeError\u001b[0m \u001b[0;32mas\u001b[0m \u001b[0me\u001b[0m\u001b[0;34m:\u001b[0m\u001b[0;34m\u001b[0m\u001b[0;34m\u001b[0m\u001b[0m\n",
            "\u001b[0;32m/usr/lib/python3.10/json/__init__.py\u001b[0m in \u001b[0;36mloads\u001b[0;34m(s, cls, object_hook, parse_float, parse_int, parse_constant, object_pairs_hook, **kw)\u001b[0m\n\u001b[1;32m    345\u001b[0m             parse_constant is None and object_pairs_hook is None and not kw):\n\u001b[0;32m--> 346\u001b[0;31m         \u001b[0;32mreturn\u001b[0m \u001b[0m_default_decoder\u001b[0m\u001b[0;34m.\u001b[0m\u001b[0mdecode\u001b[0m\u001b[0;34m(\u001b[0m\u001b[0ms\u001b[0m\u001b[0;34m)\u001b[0m\u001b[0;34m\u001b[0m\u001b[0;34m\u001b[0m\u001b[0m\n\u001b[0m\u001b[1;32m    347\u001b[0m     \u001b[0;32mif\u001b[0m \u001b[0mcls\u001b[0m \u001b[0;32mis\u001b[0m \u001b[0;32mNone\u001b[0m\u001b[0;34m:\u001b[0m\u001b[0;34m\u001b[0m\u001b[0;34m\u001b[0m\u001b[0m\n",
            "\u001b[0;32m/usr/lib/python3.10/json/decoder.py\u001b[0m in \u001b[0;36mdecode\u001b[0;34m(self, s, _w)\u001b[0m\n\u001b[1;32m    336\u001b[0m         \"\"\"\n\u001b[0;32m--> 337\u001b[0;31m         \u001b[0mobj\u001b[0m\u001b[0;34m,\u001b[0m \u001b[0mend\u001b[0m \u001b[0;34m=\u001b[0m \u001b[0mself\u001b[0m\u001b[0;34m.\u001b[0m\u001b[0mraw_decode\u001b[0m\u001b[0;34m(\u001b[0m\u001b[0ms\u001b[0m\u001b[0;34m,\u001b[0m \u001b[0midx\u001b[0m\u001b[0;34m=\u001b[0m\u001b[0m_w\u001b[0m\u001b[0;34m(\u001b[0m\u001b[0ms\u001b[0m\u001b[0;34m,\u001b[0m \u001b[0;36m0\u001b[0m\u001b[0;34m)\u001b[0m\u001b[0;34m.\u001b[0m\u001b[0mend\u001b[0m\u001b[0;34m(\u001b[0m\u001b[0;34m)\u001b[0m\u001b[0;34m)\u001b[0m\u001b[0;34m\u001b[0m\u001b[0;34m\u001b[0m\u001b[0m\n\u001b[0m\u001b[1;32m    338\u001b[0m         \u001b[0mend\u001b[0m \u001b[0;34m=\u001b[0m \u001b[0m_w\u001b[0m\u001b[0;34m(\u001b[0m\u001b[0ms\u001b[0m\u001b[0;34m,\u001b[0m \u001b[0mend\u001b[0m\u001b[0;34m)\u001b[0m\u001b[0;34m.\u001b[0m\u001b[0mend\u001b[0m\u001b[0;34m(\u001b[0m\u001b[0;34m)\u001b[0m\u001b[0;34m\u001b[0m\u001b[0;34m\u001b[0m\u001b[0m\n",
            "\u001b[0;32m/usr/lib/python3.10/json/decoder.py\u001b[0m in \u001b[0;36mraw_decode\u001b[0;34m(self, s, idx)\u001b[0m\n\u001b[1;32m    354\u001b[0m         \u001b[0;32mexcept\u001b[0m \u001b[0mStopIteration\u001b[0m \u001b[0;32mas\u001b[0m \u001b[0merr\u001b[0m\u001b[0;34m:\u001b[0m\u001b[0;34m\u001b[0m\u001b[0;34m\u001b[0m\u001b[0m\n\u001b[0;32m--> 355\u001b[0;31m             \u001b[0;32mraise\u001b[0m \u001b[0mJSONDecodeError\u001b[0m\u001b[0;34m(\u001b[0m\u001b[0;34m\"Expecting value\"\u001b[0m\u001b[0;34m,\u001b[0m \u001b[0ms\u001b[0m\u001b[0;34m,\u001b[0m \u001b[0merr\u001b[0m\u001b[0;34m.\u001b[0m\u001b[0mvalue\u001b[0m\u001b[0;34m)\u001b[0m \u001b[0;32mfrom\u001b[0m \u001b[0;32mNone\u001b[0m\u001b[0;34m\u001b[0m\u001b[0;34m\u001b[0m\u001b[0m\n\u001b[0m\u001b[1;32m    356\u001b[0m         \u001b[0;32mreturn\u001b[0m \u001b[0mobj\u001b[0m\u001b[0;34m,\u001b[0m \u001b[0mend\u001b[0m\u001b[0;34m\u001b[0m\u001b[0;34m\u001b[0m\u001b[0m\n",
            "\u001b[0;31mJSONDecodeError\u001b[0m: Expecting value: line 1 column 1 (char 0)",
            "\nDuring handling of the above exception, another exception occurred:\n",
            "\u001b[0;31mJSONDecodeError\u001b[0m                           Traceback (most recent call last)",
            "\u001b[0;32m<ipython-input-1-0cdae85f817f>\u001b[0m in \u001b[0;36m<cell line: 11>\u001b[0;34m()\u001b[0m\n\u001b[1;32m      9\u001b[0m  }\n\u001b[1;32m     10\u001b[0m })\n\u001b[0;32m---> 11\u001b[0;31m \u001b[0mprint\u001b[0m\u001b[0;34m(\u001b[0m\u001b[0;34mf\"Status Code: {challenge.status_code}, Response: {challenge.json()}\"\u001b[0m\u001b[0;34m)\u001b[0m\u001b[0;34m\u001b[0m\u001b[0;34m\u001b[0m\u001b[0m\n\u001b[0m\u001b[1;32m     12\u001b[0m \u001b[0;34m\u001b[0m\u001b[0m\n\u001b[1;32m     13\u001b[0m '''\n",
            "\u001b[0;32m/usr/local/lib/python3.10/dist-packages/requests/models.py\u001b[0m in \u001b[0;36mjson\u001b[0;34m(self, **kwargs)\u001b[0m\n\u001b[1;32m    915\u001b[0m                 \u001b[0;32mraise\u001b[0m \u001b[0mRequestsJSONDecodeError\u001b[0m\u001b[0;34m(\u001b[0m\u001b[0me\u001b[0m\u001b[0;34m.\u001b[0m\u001b[0mmessage\u001b[0m\u001b[0;34m)\u001b[0m\u001b[0;34m\u001b[0m\u001b[0;34m\u001b[0m\u001b[0m\n\u001b[1;32m    916\u001b[0m             \u001b[0;32melse\u001b[0m\u001b[0;34m:\u001b[0m\u001b[0;34m\u001b[0m\u001b[0;34m\u001b[0m\u001b[0m\n\u001b[0;32m--> 917\u001b[0;31m                 \u001b[0;32mraise\u001b[0m \u001b[0mRequestsJSONDecodeError\u001b[0m\u001b[0;34m(\u001b[0m\u001b[0me\u001b[0m\u001b[0;34m.\u001b[0m\u001b[0mmsg\u001b[0m\u001b[0;34m,\u001b[0m \u001b[0me\u001b[0m\u001b[0;34m.\u001b[0m\u001b[0mdoc\u001b[0m\u001b[0;34m,\u001b[0m \u001b[0me\u001b[0m\u001b[0;34m.\u001b[0m\u001b[0mpos\u001b[0m\u001b[0;34m)\u001b[0m\u001b[0;34m\u001b[0m\u001b[0;34m\u001b[0m\u001b[0m\n\u001b[0m\u001b[1;32m    918\u001b[0m \u001b[0;34m\u001b[0m\u001b[0m\n\u001b[1;32m    919\u001b[0m     \u001b[0;34m@\u001b[0m\u001b[0mproperty\u001b[0m\u001b[0;34m\u001b[0m\u001b[0;34m\u001b[0m\u001b[0m\n",
            "\u001b[0;31mJSONDecodeError\u001b[0m: [Errno Expecting value] <!DOCTYPE html>\r\n<html>\r\n<head>\r\n    <link rel=\"shortcut icon\" href=\"favicon2.ico\" type=\"image/x-icon\" />\r\n    <meta http-equiv=\"Content-Type\" content=\"text/html; charset=utf-8\" />\r\n\t<title>Forbidden</title>\r\n\t<style>\r\n\tbody {\r\n\t\tmargin: 0;\r\n\t\tpadding: 0;\r\n\t}\r\n\t.forbidden {\r\n\t\tposition: absolute;\r\n\t\twidth: 100%;\r\n\t\theight: 100%;\r\n\t\tbackground-color: #e6ebf1;\r\n\t\ttext-align: center;\r\n\t}\r\n\t.bg-forbidden {\r\n\t\tdisplay: inline-block;\r\n\t\twidth: 430px;\r\n\t\theight: 200px;\r\n\t\tbackground: url(data:image/png;base64,iVBORw0KGgoAAAANSUhEUgAAAa4AAADICAIAAAA/TZI+AAAAAXNSR0IArs4c6QAAAERlWElmTU0AKgAAAAgAAYdpAAQAAAABAAAAGgAAAAAAA6ABAAMAAAABAAEAAKACAAQAAAABAAABrqADAAQAAAABAAAAyAAAAACg2GtyAABAAElEQVR4Ae2955NkSZIflqW16K7WarpnelSP2lE7NzeLvbvd4/EWOAPOABgMRjN84Af+V/gGfiJAMxoJGs1opNkRhz3czd6qmR3VM61FdWkts6qSv5/7i3jxZL6sfJlVWRXR1ZEhPTw8PDw85Ot6Nrda8cZTwFPAU+B0U6D7dFff195TwFPAU4AU8KLQ84GngKeAp4AXhZ4HPAU8BTwFvFboecBTwFPAUwAU8BNkzwaeAp4CngJeFHoe8BTwFPAU8Fqh5wFPAU8BTwFQwE+QPRt4CngKeAp4Ueh5wFPAU8BTwGuFngc8BTwFPAVAAT9B9mzgKeAp4CngRaHnAU8BTwFPAa8Veh7wFPAU8BQABfwE2bOBp4CngKeAF4WeBzwFPAU8BbxW6HnAU8BTwFMAFPATZM8GngKeAp4CXhR6HvAU8BTwFPBaoecBTwFPAU8BUMBPkD0beAp4CngKeFHoecBTwFPAU8BrhZ4HPAU8BTwFQAE/QfZs4CngKeAp4EWh5wFPAU8BTwGvFXoe8BTwFPAUAAX8BNmzgaeAp4CnQKXX0yCVAge1WqWCv/JNV6ULpny4HqKngKdAExTwojCFePv7B3v7+ykRZQRBDvb3ebKXQUoPw1OgPAr4CXKclrVarXVyMF6Y93sKeAocDwp4URhth1qlutcqfTBakvd5CngKHCMKeFEYaQzog9AKI0He4yngKXAKKOAXrcJGPjg42D84CP3e5SlweihQq2CrsIatQtrY1hMnqy+qgaoH2PKDg5t+Ndn9oxsO/OsWu6Op5UVh0HxgAD817mhW9sg3RAEwPMZ+jPwUfQci+ermp3gMZCN+4skhEEUydnXjH008wfH2e1EYtM+eXyI83pzqsWueAhBlB9D9Dmr7NQq/ko3olRSRZmbV3Q2hWOkRwVhyWS0A50UhiYolQjlI2AICe5CeAseAAmBwiD/8aycuVDoPKvuVA0yhIRZ7eo61quhFYQXjJBilnSziy/IUaA8FMPnFIC/s3VYhGKsdtFGIYnQyyMJAJnI58niZ0y4K0Uh7e3vHq008Np4CTVMAGiBkD4b5piGVCYCiGeaAs+aeHllaLBN8U7BOuyjEEmERZsGOSnW3kMTs6ukeGuhrqk18Zk+BJigAfsboftyEYKRCtQpm6xDUPZw1HxeBeKpFIUfNAsMmlhE3t3cK7qugdb0ojPC997SRAtC49g72y98SaU0VpAMeQBri35HPmE+vKMQRgoIX7DY2t59ML27vVnGMSs4Q6DIHRl/1RtjkzPjw5PhIJMh7D...\n\t\tmargin: 100px auto 0;\r\n\t}\r\n\t.forbidden-desc {\r\n\t\tcolor: #082143;\r\n\t\tfont-size: 18px;\r\n\t\tfont-weight: bold;\r\n\t\tmargin-top: 40px;\r\n\t}\r\n\t</style>\r\n</head>\r\n\r\n<body>\r\n\t<div class=\"forbidden\">\r\n        <span class=\"bg-forbidden\"></span>\r\n        <div class=\"forbidden-desc\">The access of the current IP address has been restricted.</div>\r\n    </div>\r\n</body>\r\n\r\n</html>\r\n: 0"
          ]
        }
      ]
    },
    {
      "cell_type": "markdown",
      "source": [
        "**Foreseen API \"action\" needed : -**"
      ],
      "metadata": {
        "id": "rqlypK1pTCWD"
      }
    },
    {
      "cell_type": "code",
      "source": [
        "        ### \"action\":\"dialOutbound\",\n",
        "url = 'https://192.168.0.201:8089/api'\n",
        "import requests\n",
        "challenge = requests.post( url , json={\n",
        "        \"action\":\"dialOutbound\",\n",
        "        \"outbound\":\"90162069972\",\n",
        "        \"caller\":\"1001\",\n",
        "        \"cookie\":cookie\n",
        "})\n",
        "print(f\"Status Code: {challenge.status_code}, Response: {challenge.json()}\")\n",
        "challengeRcv = challenge.json()[\"challenge\"]\n",
        "print(challengeRcv)"
      ],
      "metadata": {
        "id": "UnaCgKeehTP6"
      },
      "execution_count": null,
      "outputs": []
    },
    {
      "cell_type": "code",
      "source": [
        "        ### \"\"action\":\"Hangup\",\n",
        "url = 'https://192.168.0.201:8089/api'\n",
        "import requests\n",
        "challenge = requests.post( url , json={\n",
        "        \"action\":\"Hangup\",\n",
        "        \"channel\":\"PJSIP/4000-00000084\", #ref below \"listBridgedChannels\"\n",
        "        \"caller\":\"1001\",\n",
        "        \"cookie\":cookie\n",
        "})\n",
        "print(f\"Status Code: {challenge.status_code}, Response: {challenge.json()}\")\n",
        "challengeRcv = challenge.json()[\"challenge\"]\n",
        "print(challengeRcv)"
      ],
      "metadata": {
        "id": "oVSCP1g1cBdd"
      },
      "execution_count": null,
      "outputs": []
    },
    {
      "cell_type": "code",
      "source": [
        "        ### \"action\":\"callbarge \",\n",
        "url = 'https://192.168.0.201:8089/api'\n",
        "import requests\n",
        "challenge = requests.post( url , json={\n",
        "        \"action\":\"callbarge \",\n",
        "        \"barge-exten\":\"4002\",\n",
        "        \"channel\":\"PJSIP/4003-00000087\",\n",
        "        \"cookie\":cookie ,\n",
        "        \"exten\":\"4003\" }\n",
        "})\n",
        "print(f\"Status Code: {challenge.status_code}, Response: {challenge.json()}\")\n",
        "challengeRcv = challenge.json()[\"challenge\"]\n",
        "print(challengeRcv)"
      ],
      "metadata": {
        "id": "xeKa-9rjiibB"
      },
      "execution_count": null,
      "outputs": []
    },
    {
      "cell_type": "code",
      "source": [
        "\n",
        "        ### \"action\":\"callTransfer\",\n",
        "url = 'https://192.168.0.201:8089/api'\n",
        "import requests\n",
        "challenge = requests.post( url , json={\n",
        "        \"action\":\"callTransfer\",\n",
        "        \"channel\":\"PJSIP/4000-00000084\", #ref below \"listBridgedChannels\"\n",
        "        \"caller\":\"1001\",\n",
        "        \"cookie\":cookie\n",
        "})\n",
        "print(f\"Status Code: {challenge.status_code}, Response: {challenge.json()}\")\n",
        "challengeRcv = challenge.json()[\"challenge\"]\n",
        "print(challengeRcv)\n",
        "\n"
      ],
      "metadata": {
        "id": "xcymUJChjlr1"
      },
      "execution_count": null,
      "outputs": []
    },
    {
      "cell_type": "code",
      "source": [
        "        ### \"action\":\"listBridgedChannels\"\n",
        "url = 'https://192.168.0.201:8089/api'\n",
        "import requests\n",
        "challenge = requests.post( url , json={\n",
        "        \"action\":\"listBridgedChannels\",\n",
        "        \"outbound\":\"90162069972\",\n",
        "        \"caller\":\"1001\",\n",
        "        \"cookie\":cookie\n",
        "})\n",
        "print(f\"Status Code: {challenge.status_code}, Response: {challenge.json()}\")\n",
        "challengeRcv = challenge.json()[\"challenge\"]\n",
        "print(challengeRcv)\n",
        "\n",
        "\n",
        "### sample Response\n",
        "''' {\n",
        "    \"response\":{\n",
        "        \"channel\":[\n",
        "            {\n",
        "                \"bridge_id\":\"7f12ed1a-f03d-4575-a4cb-f986f864c2a2\",\n",
        "                \"bridge_time\":\"2019-11-25 09:43:19\",\n",
        "                \"callerid1\":\"1001\",                 ### Calling number\n",
        "                \"callerid2\":\"1000\",                  ### Called number\n",
        "                \"channel1\":\"PJSIP/1001-00000002\",   ### calling channel\n",
        "                \"channel2\":\"PJSIP/1000-00000003\",    ### Called channel\n",
        "                \"have_send\":1,\n",
        "                \"inbound_trunk_name\":\"\",\n",
        "                \"name1\":\"1001\",\n",
        "                \"name2\":\"\",\n",
        "                \"outbound_trunk_name\":\"\",\n",
        "                \"uniqueid1\":\"1574692996.4\",\n",
        "                \"uniqueid2\":\"1574692996.5\"\n",
        "            }\n",
        "        ],\n",
        "        \"page\":1,\n",
        "        \"total_item\":1,\n",
        "        \"total_page\":1\n",
        "    },\n",
        "    \"status\":0\n",
        "}\n",
        "'''\n"
      ],
      "metadata": {
        "colab": {
          "base_uri": "https://localhost:8080/",
          "height": 133
        },
        "id": "M5YgrmDnTAuG",
        "outputId": "82a56cf8-b60b-420a-eaa1-1bb2026d9aa9"
      },
      "execution_count": null,
      "outputs": [
        {
          "output_type": "error",
          "ename": "SyntaxError",
          "evalue": "ignored",
          "traceback": [
            "\u001b[0;36m  File \u001b[0;32m\"<ipython-input-1-eaa432fada40>\"\u001b[0;36m, line \u001b[0;32m17\u001b[0m\n\u001b[0;31m    sample output :\u001b[0m\n\u001b[0m           ^\u001b[0m\n\u001b[0;31mSyntaxError\u001b[0m\u001b[0;31m:\u001b[0m invalid syntax\n"
          ]
        }
      ]
    },
    {
      "cell_type": "code",
      "source": [
        "0122929068"
      ],
      "metadata": {
        "id": "KVPpqxauXlCn"
      },
      "execution_count": null,
      "outputs": []
    }
  ],
  "metadata": {
    "colab": {
      "provenance": [],
      "include_colab_link": true
    },
    "kernelspec": {
      "display_name": "Python 3",
      "name": "python3"
    },
    "language_info": {
      "codemirror_mode": {
        "name": "ipython",
        "version": 3
      },
      "file_extension": ".py",
      "mimetype": "text/x-python",
      "name": "python",
      "nbconvert_exporter": "python",
      "pygments_lexer": "ipython3",
      "version": "3.11.3"
    }
  },
  "nbformat": 4,
  "nbformat_minor": 0
}